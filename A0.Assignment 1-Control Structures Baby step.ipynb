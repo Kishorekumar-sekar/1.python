{
 "cells": [
  {
   "cell_type": "code",
   "execution_count": 1,
   "metadata": {},
   "outputs": [
    {
     "name": "stdout",
     "output_type": "stream",
     "text": [
      "Welcome to Assignment-1\n"
     ]
    }
   ],
   "source": [
    "print(\"Welcome to Assignment-1\")"
   ]
  },
  {
   "cell_type": "code",
   "execution_count": 2,
   "metadata": {},
   "outputs": [
    {
     "name": "stdout",
     "output_type": "stream",
     "text": [
      "Num1=   10\n",
      "Num2=   30\n",
      "Add=   40\n"
     ]
    }
   ],
   "source": [
    "Num1=10\n",
    "print(\"Num1=  \",Num1)\n",
    "Num2=30\n",
    "print(\"Num2=  \",Num2)\n",
    "Add=Num1+Num2\n",
    "print(\"Add=  \",Add)"
   ]
  },
  {
   "cell_type": "code",
   "execution_count": 7,
   "metadata": {},
   "outputs": [
    {
     "name": "stdout",
     "output_type": "stream",
     "text": [
      "Enter the BMI Index : 34\n",
      "Very Over Weight\n"
     ]
    }
   ],
   "source": [
    "Index=int(input(\"Enter the BMI Index : \"))\n",
    "if(Index<=18):\n",
    "    print(\"Under Weight\")\n",
    "elif(Index<=24.9):\n",
    "    print(\"Normal Range\")\n",
    "elif(Index<=29.9):\n",
    "    print(\"Over Weight\")\n",
    "elif(Index<=34.9):\n",
    "    print(\"Very Over Weight\")\n",
    "else:\n",
    "    print(\"Extreme Obase\")"
   ]
  }
 ],
 "metadata": {
  "kernelspec": {
   "display_name": "Python 3",
   "language": "python",
   "name": "python3"
  },
  "language_info": {
   "codemirror_mode": {
    "name": "ipython",
    "version": 3
   },
   "file_extension": ".py",
   "mimetype": "text/x-python",
   "name": "python",
   "nbconvert_exporter": "python",
   "pygments_lexer": "ipython3",
   "version": "3.7.4"
  }
 },
 "nbformat": 4,
 "nbformat_minor": 2
}
