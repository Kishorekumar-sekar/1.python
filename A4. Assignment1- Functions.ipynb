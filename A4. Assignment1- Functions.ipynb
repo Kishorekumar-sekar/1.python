{
 "cells": [
  {
   "cell_type": "code",
   "execution_count": 1,
   "metadata": {},
   "outputs": [],
   "source": [
    "def Subfields():\n",
    "    print(\"Subfields in AI are:\")\n",
    "    lists=[\"Machine Learning\",\"Neural Networks\",\"Vision\",\"Robotics\",\"Speech processing\",\"Natural Language Processing\"]\n",
    "    for temp in lists:\n",
    "        print(temp)\n",
    "    return temp"
   ]
  },
  {
   "cell_type": "code",
   "execution_count": 2,
   "metadata": {},
   "outputs": [
    {
     "name": "stdout",
     "output_type": "stream",
     "text": [
      "Subfields in AI are:\n",
      "Machine Learning\n",
      "Neural Networks\n",
      "Vision\n",
      "Robotics\n",
      "Speech processing\n",
      "Natural Language Processing\n",
      "Natural Language Processing\n"
     ]
    }
   ],
   "source": [
    "print(Subfields())"
   ]
  },
  {
   "cell_type": "code",
   "execution_count": 3,
   "metadata": {},
   "outputs": [
    {
     "name": "stdout",
     "output_type": "stream",
     "text": [
      "Subfields in AI are:\n",
      "Machine Learning\n",
      "Neural Networks\n",
      "Vision\n",
      "Robotics\n",
      "Speech processing\n",
      "Natural Language Processing\n"
     ]
    }
   ],
   "source": [
    "AI_Sub=Subfields()"
   ]
  },
  {
   "cell_type": "code",
   "execution_count": 4,
   "metadata": {},
   "outputs": [
    {
     "name": "stdout",
     "output_type": "stream",
     "text": [
      "Subfields in AI are:\n",
      "Machine Learning\n",
      "Neural Networks\n",
      "Vision\n",
      "Robotics\n",
      "Speech processing\n",
      "Natural Language Processing\n"
     ]
    },
    {
     "data": {
      "text/plain": [
       "'Natural Language Processing'"
      ]
     },
     "execution_count": 4,
     "metadata": {},
     "output_type": "execute_result"
    }
   ],
   "source": [
    "Subfields()"
   ]
  },
  {
   "cell_type": "code",
   "execution_count": 5,
   "metadata": {},
   "outputs": [],
   "source": [
    "def OddEven():\n",
    "    num=int(input(\"Enterthe Number:\"))\n",
    "    if((num%2)==0):\n",
    "        print(num,\"is Even Number\")\n",
    "        message='num'\"is a Even Number\"\n",
    "    else:\n",
    "        print(num,\"is Odd Number\")\n",
    "        message='num'\"is a Odd Number\"\n",
    "    return message"
   ]
  },
  {
   "cell_type": "code",
   "execution_count": 6,
   "metadata": {},
   "outputs": [
    {
     "name": "stdout",
     "output_type": "stream",
     "text": [
      "Enterthe Number:4\n",
      "4 is Even Number\n"
     ]
    },
    {
     "data": {
      "text/plain": [
       "'numis a Even Number'"
      ]
     },
     "execution_count": 6,
     "metadata": {},
     "output_type": "execute_result"
    }
   ],
   "source": [
    "OddEven()"
   ]
  },
  {
   "cell_type": "code",
   "execution_count": 7,
   "metadata": {},
   "outputs": [],
   "source": [
    "def Eligible():\n",
    "    Gen=input(\"Enter your Gender:\")\n",
    "    Age=int(input(\"Enter Your Age:\"))\n",
    "    if(Age>=21):\n",
    "        print(\"ELIGIBLE\")\n",
    "        message=\"ELIGIBLE\"\n",
    "    else:\n",
    "        print(\"NOT ELIGIBLE\")\n",
    "        message=\"NOT ELIGIBLE\"\n",
    "    return message\n",
    "        \n",
    "            "
   ]
  },
  {
   "cell_type": "code",
   "execution_count": 8,
   "metadata": {},
   "outputs": [
    {
     "name": "stdout",
     "output_type": "stream",
     "text": [
      "Enter your Gender:Male\n",
      "Enter Your Age:18\n",
      "NOT ELIGIBLE\n"
     ]
    },
    {
     "data": {
      "text/plain": [
       "'NOT ELIGIBLE'"
      ]
     },
     "execution_count": 8,
     "metadata": {},
     "output_type": "execute_result"
    }
   ],
   "source": [
    "Eligible()"
   ]
  },
  {
   "cell_type": "code",
   "execution_count": 6,
   "metadata": {},
   "outputs": [],
   "source": [
    "def percentage():\n",
    "    sub1=int(input(\"Subject1:\"))\n",
    "    sub2=int(input(\"Subject2:\"))\n",
    "    sub3=int(input(\"Subject3:\"))\n",
    "    sub4=int(input(\"Subject4:\"))\n",
    "    sub5=int(input(\"Subject5:\"))\n",
    "    Total=sub1+sub2+sub3+sub4+sub5\n",
    "    print(\"Total=\",Total)\n",
    "    percentage=((sub1+sub2+sub3+sub4+sub5)/(5.00000000000))\n",
    "    print(\"Percentage=\",percentage,\"%\")\n",
    "    return percentage"
   ]
  },
  {
   "cell_type": "markdown",
   "metadata": {},
   "source": [
    "percentage()"
   ]
  },
  {
   "cell_type": "code",
   "execution_count": 4,
   "metadata": {},
   "outputs": [
    {
     "name": "stdout",
     "output_type": "stream",
     "text": [
      "Subject1:23\n",
      "Subject2:45\n",
      "Subject3:34\n",
      "Subject4:23\n",
      "Subject5:23\n",
      "Total= 148\n",
      "Percentage= 29.6 %\n"
     ]
    },
    {
     "data": {
      "text/plain": [
       "29.6"
      ]
     },
     "execution_count": 4,
     "metadata": {},
     "output_type": "execute_result"
    }
   ],
   "source": [
    "percentage()"
   ]
  },
  {
   "cell_type": "code",
   "execution_count": 7,
   "metadata": {},
   "outputs": [
    {
     "name": "stdout",
     "output_type": "stream",
     "text": [
      "Subject1:23\n",
      "Subject2:45\n",
      "Subject3:34\n",
      "Subject4:23\n",
      "Subject5:23\n",
      "Total= 148\n",
      "Percentage= 29.6 %\n"
     ]
    },
    {
     "data": {
      "text/plain": [
       "29.6"
      ]
     },
     "execution_count": 7,
     "metadata": {},
     "output_type": "execute_result"
    }
   ],
   "source": [
    "percentage()"
   ]
  },
  {
   "cell_type": "code",
   "execution_count": 8,
   "metadata": {},
   "outputs": [],
   "source": [
    "def triangle():\n",
    "    height=int(input(\"Height:\"))\n",
    "    Breadth=int(input(\"Breadth:\"))\n",
    "    Area=(height*Breadth)/2\n",
    "    print(\"Area =(height*Breadth)/2\")\n",
    "    print(\"Area of Triangle:\",Area)\n",
    "    Side1=int(input(\"Slanding_Height1:\"))\n",
    "    Side2=int(input(\"Slanding_Height2:\"))\n",
    "    Side3=int(input(\"Breadth:\"))\n",
    "    perimeter=Side1+Side2+Side3\n",
    "    print(\"perimeter=Slanding_Height1+Slanding_Height2+Breadth\")\n",
    "    print(\"Perimeter of Triangle:\",perimeter)"
   ]
  },
  {
   "cell_type": "code",
   "execution_count": 10,
   "metadata": {},
   "outputs": [
    {
     "name": "stdout",
     "output_type": "stream",
     "text": [
      "Height:3\n",
      "Breadth:4\n",
      "Area =(height*Breadth)/2\n",
      "Area of Triangle: 6.0\n",
      "Slanding_Height1:3\n",
      "Slanding_Height2:4\n",
      "Breadth:45\n",
      "perimeter=Slanding_Height1+Slanding_Height2+Breadth\n",
      "Perimeter of Triangle: 52\n"
     ]
    }
   ],
   "source": [
    "triangle()"
   ]
  },
  {
   "cell_type": "code",
   "execution_count": 13,
   "metadata": {},
   "outputs": [],
   "source": [
    "def triangle():\n",
    "    height=int(input(\"Height:\"))\n",
    "    Breadth=int(input(\"Breadth:\"))\n",
    "    Area=(height*Breadth)/2\n",
    "    print(\"Area =(height*Breadth)/2\")\n",
    "    print(\"Area of Triangle:\",Area)\n",
    "    Side1=int(input(\"Slanding_Height1:\"))\n",
    "    Side2=int(input(\"Slanding_Height2:\"))\n",
    "    Side3=int(input(\"Breadth:\"))\n",
    "    perimeter=Side1+Side2+Side3\n",
    "    print(\"perimeter=Slanding_Height1+Slanding_Height2+Breadth\")\n",
    "    print(\"Perimeter of Triangle:\",perimeter)\n",
    "    return Area,perimeter"
   ]
  },
  {
   "cell_type": "code",
   "execution_count": 14,
   "metadata": {},
   "outputs": [
    {
     "name": "stdout",
     "output_type": "stream",
     "text": [
      "Height:3\n",
      "Breadth:4\n",
      "Area =(height*Breadth)/2\n",
      "Area of Triangle: 6.0\n",
      "Slanding_Height1:3\n",
      "Slanding_Height2:4\n",
      "Breadth:45\n",
      "perimeter=Slanding_Height1+Slanding_Height2+Breadth\n",
      "Perimeter of Triangle: 52\n"
     ]
    },
    {
     "data": {
      "text/plain": [
       "(6.0, 52)"
      ]
     },
     "execution_count": 14,
     "metadata": {},
     "output_type": "execute_result"
    }
   ],
   "source": [
    "triangle()"
   ]
  },
  {
   "cell_type": "code",
   "execution_count": null,
   "metadata": {},
   "outputs": [],
   "source": []
  }
 ],
 "metadata": {
  "kernelspec": {
   "display_name": "Python 3",
   "language": "python",
   "name": "python3"
  },
  "language_info": {
   "codemirror_mode": {
    "name": "ipython",
    "version": 3
   },
   "file_extension": ".py",
   "mimetype": "text/x-python",
   "name": "python",
   "nbconvert_exporter": "python",
   "pygments_lexer": "ipython3",
   "version": "3.7.4"
  }
 },
 "nbformat": 4,
 "nbformat_minor": 2
}
