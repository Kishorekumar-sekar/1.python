{
 "cells": [
  {
   "cell_type": "code",
   "execution_count": 1,
   "metadata": {},
   "outputs": [],
   "source": [
    "def oddEven():\n",
    "    num=int(input(\"Enter the Number:\"))\n",
    "    if((num%2)==1):\n",
    "        print(num,\"Odd Number\")\n",
    "        message= \"Odd Number\"\n",
    "    else:\n",
    "        print(num,\"Even Number\")\n",
    "        message= \"Even Number\"\n",
    "    return message"
   ]
  },
  {
   "cell_type": "code",
   "execution_count": 3,
   "metadata": {},
   "outputs": [
    {
     "name": "stdout",
     "output_type": "stream",
     "text": [
      "Enter the Number:9\n",
      "9 Odd Number\n"
     ]
    },
    {
     "data": {
      "text/plain": [
       "'Odd Number'"
      ]
     },
     "execution_count": 3,
     "metadata": {},
     "output_type": "execute_result"
    }
   ],
   "source": [
    "oddEven()"
   ]
  },
  {
   "cell_type": "code",
   "execution_count": 4,
   "metadata": {},
   "outputs": [
    {
     "name": "stdout",
     "output_type": "stream",
     "text": [
      "Enter the Number:15\n",
      "15 Odd Number\n",
      "Odd Number was Entered\n"
     ]
    }
   ],
   "source": [
    "if(oddEven()==\"Even Number\"):\n",
    "    print(\"Even number was Entered\")\n",
    "else:\n",
    "    print(\"Odd Number was Entered\")"
   ]
  },
  {
   "cell_type": "code",
   "execution_count": 11,
   "metadata": {},
   "outputs": [],
   "source": [
    "def oddEven():\n",
    "    Num=int(input(\"Enter the Number:\"))\n",
    "    if((Num%2)==1):\n",
    "        print(Num,\"Odd Number\")\n",
    "        message= \"Odd Number\"\n",
    "    else:\n",
    "        print(Num,\"Even Number\")\n",
    "        message= \"Even Number\"\n",
    "    return message"
   ]
  },
  {
   "cell_type": "code",
   "execution_count": 12,
   "metadata": {},
   "outputs": [
    {
     "name": "stdout",
     "output_type": "stream",
     "text": [
      "Enter the Number:14\n",
      "14 Even Number\n",
      "Even number was Entered\n"
     ]
    }
   ],
   "source": [
    "if(oddEven()==\"Even Number\"):\n",
    "    print(\"Even number was Entered\")\n",
    "else:\n",
    "    print(\"Odd Number was Entered\")"
   ]
  },
  {
   "cell_type": "code",
   "execution_count": 13,
   "metadata": {},
   "outputs": [
    {
     "name": "stdout",
     "output_type": "stream",
     "text": [
      "Enter the Number:14\n",
      "14 Even Number\n",
      "Even number was Entered\n"
     ]
    }
   ],
   "source": [
    "if(oddEven()==\"Even Number\"):\n",
    "    print(\"Even number was Entered\")\n",
    "else:\n",
    "    print(\"Odd Number was Entered\")"
   ]
  },
  {
   "cell_type": "code",
   "execution_count": 14,
   "metadata": {},
   "outputs": [
    {
     "name": "stdout",
     "output_type": "stream",
     "text": [
      "Enter the Number:14\n",
      "14 Even Number\n",
      "Even Number\n"
     ]
    }
   ],
   "source": [
    "print(oddEven())"
   ]
  },
  {
   "cell_type": "code",
   "execution_count": 15,
   "metadata": {},
   "outputs": [
    {
     "name": "stdout",
     "output_type": "stream",
     "text": [
      "Enter the Number:14\n",
      "14 Even Number\n"
     ]
    }
   ],
   "source": [
    "addMessage=oddEven()"
   ]
  },
  {
   "cell_type": "code",
   "execution_count": 17,
   "metadata": {},
   "outputs": [],
   "source": [
    "def oddEven():\n",
    "    Num=int(input(\"Enter the Number:\"))\n",
    "    if((Num%2)==1):\n",
    "        print(Num,\"Odd Number\")\n",
    "        message= \"Odd Number\"\n",
    "    else:\n",
    "        print(Num,\"Even Number\")\n",
    "        message= \"Even Number\""
   ]
  },
  {
   "cell_type": "code",
   "execution_count": 18,
   "metadata": {},
   "outputs": [
    {
     "name": "stdout",
     "output_type": "stream",
     "text": [
      "Enter the Number:15\n",
      "15 Odd Number\n",
      "None\n"
     ]
    }
   ],
   "source": [
    "print(oddEven())"
   ]
  },
  {
   "cell_type": "code",
   "execution_count": null,
   "metadata": {},
   "outputs": [],
   "source": []
  }
 ],
 "metadata": {
  "kernelspec": {
   "display_name": "Python 3",
   "language": "python",
   "name": "python3"
  },
  "language_info": {
   "codemirror_mode": {
    "name": "ipython",
    "version": 3
   },
   "file_extension": ".py",
   "mimetype": "text/x-python",
   "name": "python",
   "nbconvert_exporter": "python",
   "pygments_lexer": "ipython3",
   "version": "3.7.4"
  }
 },
 "nbformat": 4,
 "nbformat_minor": 2
}
