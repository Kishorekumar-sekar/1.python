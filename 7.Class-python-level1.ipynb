{
 "cells": [
  {
   "cell_type": "markdown",
   "metadata": {},
   "source": [
    "Class- group of function"
   ]
  },
  {
   "cell_type": "code",
   "execution_count": 1,
   "metadata": {},
   "outputs": [],
   "source": [
    "class Calculator():\n",
    "    def addition(a,b):\n",
    "        add=a+b\n",
    "        return add\n",
    "    def substraction(a,b):\n",
    "        sub=a-b\n",
    "        return sub\n",
    "    def multiplication(a,b):\n",
    "        mul=a*b\n",
    "        return mul"
   ]
  },
  {
   "cell_type": "code",
   "execution_count": 2,
   "metadata": {},
   "outputs": [
    {
     "name": "stdout",
     "output_type": "stream",
     "text": [
      "Addition : 5\n"
     ]
    }
   ],
   "source": [
    "result1=Calculator.addition(2,3)\n",
    "print(\"Addition :\",result1)"
   ]
  },
  {
   "cell_type": "code",
   "execution_count": 5,
   "metadata": {},
   "outputs": [
    {
     "name": "stdout",
     "output_type": "stream",
     "text": [
      "Substraction : -1\n"
     ]
    }
   ],
   "source": [
    "result2=Calculator.substraction(2,3)\n",
    "print(\"Substraction :\",result2)"
   ]
  },
  {
   "cell_type": "code",
   "execution_count": 6,
   "metadata": {},
   "outputs": [
    {
     "name": "stdout",
     "output_type": "stream",
     "text": [
      "Multiplication : 6\n"
     ]
    }
   ],
   "source": [
    "result3=Calculator.multiplication(2,3)\n",
    "print(\"Multiplication :\",result3)"
   ]
  },
  {
   "cell_type": "code",
   "execution_count": 16,
   "metadata": {},
   "outputs": [],
   "source": [
    "class MultipleFunctions():\n",
    "    def oddEven():\n",
    "        num=int(input(\"Enter the Number:\"))\n",
    "        if((num%2)==1):\n",
    "            print(num,\"Odd Number\")\n",
    "            message= \"Odd Number\"\n",
    "        else:\n",
    "            print(num,\"Even Number\")\n",
    "            message= \"Even Number\"\n",
    "        return message\n",
    "    def Agecategory():\n",
    "        Age=int(input(\"Enter the Age:\"))\n",
    "        if(Age<18):\n",
    "            print(\"Children\")\n",
    "            cate= \"Children\"\n",
    "        elif(Age<35):\n",
    "            print(\"Adult\")\n",
    "            cate= \"Adult\"\n",
    "        elif(Age<59):\n",
    "            print(\"Citizen\")\n",
    "            cate= \"Citizen\"\n",
    "        else:\n",
    "            print(\"Senior citizen\")\n",
    "            cate= \"Senior Citizen\"\n",
    "        return cate\n",
    "    def BMI():\n",
    "        Index=int(input(\"Enter the BMI Index : \"))\n",
    "        if(Index<=18):\n",
    "            print(\"Under Weight\")\n",
    "            message=\"Under Weight\"\n",
    "        elif(Index<=24.9):\n",
    "            print(\"Normal Range\")\n",
    "            message=\"Normal Range\"\n",
    "        elif(Index<=29.9):\n",
    "            print(\"Over Weight\")\n",
    "            message=\"Over Weight\"\n",
    "        elif(Index<=34.9):\n",
    "            print(\"Very Over Weight\")\n",
    "            message=\"Very Over Weight\"\n",
    "        else:\n",
    "            print(\"Extreme Obase\")\n",
    "            message=\"Extreme Obase\"\n",
    "        return message\n",
    "    def Subfields():\n",
    "        print(\"Subfields in AI are:\")\n",
    "        lists=[\"Machine Learning\",\"Neural Networks\",\"Vision\",\"Robotics\",\"Speech processing\",\"Natural Language Processing\"]\n",
    "        for temp in lists:\n",
    "            print(temp)\n",
    "        return temp"
   ]
  },
  {
   "cell_type": "code",
   "execution_count": 13,
   "metadata": {},
   "outputs": [
    {
     "name": "stdout",
     "output_type": "stream",
     "text": [
      "Subfields in AI are:\n",
      "Machine Learning\n",
      "Neural Networks\n",
      "Vision\n",
      "Robotics\n",
      "Speech processing\n",
      "Natural Language Processing\n",
      "Natural Language Processing\n"
     ]
    }
   ],
   "source": [
    "result1=MultipleFunctions.Subfields()\n",
    "print(result1)"
   ]
  },
  {
   "cell_type": "code",
   "execution_count": 14,
   "metadata": {},
   "outputs": [
    {
     "name": "stdout",
     "output_type": "stream",
     "text": [
      "Enter the BMI Index : 34\n",
      "Very Over Weight\n",
      "Very Over Weight\n"
     ]
    }
   ],
   "source": [
    "result1=MultipleFunctions.BMI()\n",
    "print(result1)"
   ]
  },
  {
   "cell_type": "code",
   "execution_count": 17,
   "metadata": {},
   "outputs": [
    {
     "name": "stdout",
     "output_type": "stream",
     "text": [
      "Enter the Age:58\n",
      "Citizen\n",
      "Citizen\n"
     ]
    }
   ],
   "source": [
    "result3=MultipleFunctions.Agecategory()\n",
    "print(result3)"
   ]
  },
  {
   "cell_type": "code",
   "execution_count": 19,
   "metadata": {},
   "outputs": [
    {
     "name": "stdout",
     "output_type": "stream",
     "text": [
      "Enter the Number:59\n",
      "59 Odd Number\n",
      "Odd Number\n"
     ]
    }
   ],
   "source": [
    "result4=MultipleFunctions.oddEven()\n",
    "print(result4)"
   ]
  },
  {
   "cell_type": "code",
   "execution_count": null,
   "metadata": {},
   "outputs": [],
   "source": []
  }
 ],
 "metadata": {
  "kernelspec": {
   "display_name": "Python 3",
   "language": "python",
   "name": "python3"
  },
  "language_info": {
   "codemirror_mode": {
    "name": "ipython",
    "version": 3
   },
   "file_extension": ".py",
   "mimetype": "text/x-python",
   "name": "python",
   "nbconvert_exporter": "python",
   "pygments_lexer": "ipython3",
   "version": "3.7.4"
  }
 },
 "nbformat": 4,
 "nbformat_minor": 2
}
