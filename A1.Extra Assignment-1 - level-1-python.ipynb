{
 "cells": [
  {
   "cell_type": "code",
   "execution_count": 1,
   "metadata": {
    "scrolled": true
   },
   "outputs": [
    {
     "name": "stdout",
     "output_type": "stream",
     "text": [
      "HOPE AI\n"
     ]
    }
   ],
   "source": [
    "print(\"HOPE AI\")"
   ]
  },
  {
   "cell_type": "code",
   "execution_count": 7,
   "metadata": {},
   "outputs": [
    {
     "name": "stdout",
     "output_type": "stream",
     "text": [
      "Enter Your Institute Name? :HOPE AI\n"
     ]
    },
    {
     "data": {
      "text/plain": [
       "'HOPE AI'"
      ]
     },
     "execution_count": 7,
     "metadata": {},
     "output_type": "execute_result"
    }
   ],
   "source": [
    "input(\"Enter Your Institute Name? :\")"
   ]
  },
  {
   "cell_type": "code",
   "execution_count": 8,
   "metadata": {},
   "outputs": [
    {
     "name": "stdout",
     "output_type": "stream",
     "text": [
      "Enter your Name: Kishorekumar\n",
      "Enter your Age: 26\n",
      "Enter your School Name: Dhivya Matric Higher Secondary School\n",
      "Enter your Degree: B.E Mechanical\n"
     ]
    },
    {
     "data": {
      "text/plain": [
       "'B.E Mechanical'"
      ]
     },
     "execution_count": 8,
     "metadata": {},
     "output_type": "execute_result"
    }
   ],
   "source": [
    "input(\"Enter your Name: \")\n",
    "input(\"Enter your Age: \")\n",
    "input(\"Enter your School Name: \")\n",
    "input(\"Enter your Degree: \")"
   ]
  },
  {
   "cell_type": "code",
   "execution_count": 35,
   "metadata": {},
   "outputs": [
    {
     "name": "stdout",
     "output_type": "stream",
     "text": [
      "a=  43\n",
      "b=  34\n",
      "Add=  77\n"
     ]
    }
   ],
   "source": [
    "a=43\n",
    "print(\"a= \",a)\n",
    "b=34\n",
    "print(\"b= \",b)\n",
    "print(\"Add= \",a+b)\n"
   ]
  },
  {
   "cell_type": "code",
   "execution_count": 34,
   "metadata": {},
   "outputs": [
    {
     "name": "stdout",
     "output_type": "stream",
     "text": [
      "a=  43\n",
      "b=  34\n",
      "Sub=  9\n"
     ]
    }
   ],
   "source": [
    "a=43\n",
    "print(\"a= \",a)\n",
    "b=34\n",
    "print(\"b= \",b)\n",
    "print(\"Sub= \",a-b)"
   ]
  },
  {
   "cell_type": "code",
   "execution_count": 33,
   "metadata": {},
   "outputs": [
    {
     "name": "stdout",
     "output_type": "stream",
     "text": [
      "a=  63\n",
      "b=  97\n",
      "Mul=  6111\n"
     ]
    }
   ],
   "source": [
    "a=63\n",
    "print(\"a= \",a)\n",
    "b=97\n",
    "print(\"b= \",b)\n",
    "print(\"Mul= \",a*b)"
   ]
  },
  {
   "cell_type": "code",
   "execution_count": 32,
   "metadata": {},
   "outputs": [
    {
     "name": "stdout",
     "output_type": "stream",
     "text": [
      "a=  76\n",
      "b=  31\n",
      "Float Div=  2.4516129032258065\n"
     ]
    }
   ],
   "source": [
    "a=76\n",
    "print(\"a= \",a)\n",
    "b=31\n",
    "print(\"b= \",b)\n",
    "print(\"Float Div= \",a/b)"
   ]
  },
  {
   "cell_type": "code",
   "execution_count": 31,
   "metadata": {},
   "outputs": [
    {
     "name": "stdout",
     "output_type": "stream",
     "text": [
      "a=  76\n",
      "Floor Div=  2\n"
     ]
    }
   ],
   "source": [
    "a=76\n",
    "print(\"a= \",a)\n",
    "b=31\n",
    "print(\"Floor Div= \",a//b)"
   ]
  },
  {
   "cell_type": "code",
   "execution_count": 28,
   "metadata": {},
   "outputs": [
    {
     "name": "stdout",
     "output_type": "stream",
     "text": [
      "a=  76\n",
      "b=  31\n",
      "Modulo=  14\n"
     ]
    }
   ],
   "source": [
    "a=76\n",
    "print(\"a= \",a)\n",
    "b=31\n",
    "print(\"b= \",b)\n",
    "print(\"Modulo= \",a%b)"
   ]
  },
  {
   "cell_type": "code",
   "execution_count": 23,
   "metadata": {},
   "outputs": [
    {
     "name": "stdout",
     "output_type": "stream",
     "text": [
      "a=  4\n",
      "b=  4\n",
      "Power=  256\n"
     ]
    }
   ],
   "source": [
    "a=4\n",
    "print(\"a= \",a)\n",
    "b=4\n",
    "print(\"b= \",b)\n",
    "print(\"Power= \",a**b)"
   ]
  },
  {
   "cell_type": "code",
   "execution_count": 27,
   "metadata": {},
   "outputs": [
    {
     "name": "stdout",
     "output_type": "stream",
     "text": [
      "a=  4\n",
      "b=  4\n",
      "power=  256\n"
     ]
    }
   ],
   "source": [
    "a=4\n",
    "print(\"a= \",a)\n",
    "b=4\n",
    "print(\"b= \",b)\n",
    "print(\"power= \",pow(a,b))"
   ]
  },
  {
   "cell_type": "code",
   "execution_count": null,
   "metadata": {},
   "outputs": [],
   "source": []
  }
 ],
 "metadata": {
  "kernelspec": {
   "display_name": "Python 3",
   "language": "python",
   "name": "python3"
  },
  "language_info": {
   "codemirror_mode": {
    "name": "ipython",
    "version": 3
   },
   "file_extension": ".py",
   "mimetype": "text/x-python",
   "name": "python",
   "nbconvert_exporter": "python",
   "pygments_lexer": "ipython3",
   "version": "3.7.4"
  }
 },
 "nbformat": 4,
 "nbformat_minor": 2
}
